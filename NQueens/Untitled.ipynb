{
 "cells": [
  {
   "cell_type": "markdown",
   "metadata": {},
   "source": [
    "### N-Queens Brute Force solution ###"
   ]
  },
  {
   "cell_type": "code",
   "execution_count": 6,
   "metadata": {},
   "outputs": [
    {
     "data": {
      "text/plain": [
       "'\\nCode to implement the N-Queens Brute force solution\\nQueens attack all squares in a row and a column. Therefore there can only be one queen in a row and column at a time.\\n\\nThis allows us to represent the position of a queen using an array of length n. Where n is the number of columns in the chessboard.\\nEvery index in this array represents a column and the value ofof that position in the array represents the row number from 0 to N - 1\\n\\n\\nFor the brute force approach we need two things:\\n* a list of every possible perumation or value of 0 to N-1\\n* A way to check if the permutation is a solution or not\\n    ** Remember that only one queen per row per column.\\n    \\n'"
      ]
     },
     "execution_count": 6,
     "metadata": {},
     "output_type": "execute_result"
    }
   ],
   "source": [
    "\"\"\"\n",
    "Code to implement the N-Queens Brute force solution\n",
    "Queens attack all squares in a row and a column. Therefore there can only be one queen in a row and column at a time.\n",
    "\n",
    "This allows us to represent the position of a queen using an array of length n. Where n is the number of columns in the chessboard.\n",
    "Every index in this array represents a column and the value ofof that position in the array represents the row number from 0 to N - 1\n",
    "\n",
    "\n",
    "For the brute force approach we need two things:\n",
    "* a list of every possible perumation or value of 0 to N-1\n",
    "* A way to check if the permutation is a solution or not\n",
    "    ** Remember that only one queen per row per column.\n",
    "    \n",
    "\"\"\""
   ]
  },
  {
   "cell_type": "code",
   "execution_count": 7,
   "metadata": {},
   "outputs": [],
   "source": [
    "import itertools as it"
   ]
  },
  {
   "cell_type": "code",
   "execution_count": 8,
   "metadata": {},
   "outputs": [],
   "source": [
    "def sol_checker(perm):\n",
    "    for (i,j) in it.combinations(range(len(perm)), 2):\n",
    "        if abs(i - j) == abs( perm[i] - perm[j]):\n",
    "            \"\"\"\n",
    "                If these values are equal, then that means a queen exists in the same row and column.\n",
    "                We are checking the diagonals for the presence of a queen\n",
    "            \"\"\"\n",
    "            return False\n",
    "        return True"
   ]
  },
  {
   "cell_type": "code",
   "execution_count": 9,
   "metadata": {},
   "outputs": [
    {
     "name": "stdin",
     "output_type": "stream",
     "text": [
      "enter number of columns: 4\n"
     ]
    },
    {
     "name": "stdout",
     "output_type": "stream",
     "text": [
      "(0, 2, 1, 3)\n",
      "(0, 2, 3, 1)\n",
      "(0, 3, 1, 2)\n",
      "(0, 3, 2, 1)\n",
      "(1, 3, 0, 2)\n",
      "(1, 3, 2, 0)\n",
      "(2, 0, 1, 3)\n",
      "(2, 0, 3, 1)\n",
      "(3, 0, 1, 2)\n",
      "(3, 0, 2, 1)\n",
      "(3, 1, 0, 2)\n",
      "(3, 1, 2, 0)\n"
     ]
    }
   ],
   "source": [
    "for perm in it.permutations(range(int(input('enter number of columns:')))):\n",
    "    if sol_checker(perm):\n",
    "        print(perm)\n",
    "        exit()"
   ]
  },
  {
   "cell_type": "code",
   "execution_count": null,
   "metadata": {},
   "outputs": [],
   "source": []
  }
 ],
 "metadata": {
  "kernelspec": {
   "display_name": "Python 3 (ipykernel)",
   "language": "python",
   "name": "python3"
  },
  "language_info": {
   "codemirror_mode": {
    "name": "ipython",
    "version": 3
   },
   "file_extension": ".py",
   "mimetype": "text/x-python",
   "name": "python",
   "nbconvert_exporter": "python",
   "pygments_lexer": "ipython3",
   "version": "3.9.5"
  }
 },
 "nbformat": 4,
 "nbformat_minor": 4
}
