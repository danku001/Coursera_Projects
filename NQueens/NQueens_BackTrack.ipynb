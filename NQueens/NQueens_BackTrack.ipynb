{
 "cells": [
  {
   "cell_type": "markdown",
   "metadata": {},
   "source": [
    "### N-Queens Backtracking Algorithm ###"
   ]
  },
  {
   "cell_type": "markdown",
   "metadata": {},
   "source": [
    "##### What is Backtracking #####"
   ]
  },
  {
   "cell_type": "markdown",
   "metadata": {},
   "source": [
    "Backtracking is an algorithmic problem solving paradigm that derives a solution based on the previous steps or values taken.\n",
    "\n",
    "In backtracking we first take a step and then we check the step. If the step is correct, we continue. If the step is incorrect, we terminate and start a new solution.\n",
    "\n",
    "The general steps for backtracking are as follows:\n",
    "* Start with a sub-solution.\n",
    "* Check if this sub-solution is correct.\n",
    "    - Will it lead to a solution?\n",
    "* If not, then move to the next sub-solution and start again.\n",
    "    "
   ]
  },
  {
   "cell_type": "code",
   "execution_count": 18,
   "metadata": {},
   "outputs": [],
   "source": [
    "#Global Variable\n",
    "res = 0"
   ]
  },
  {
   "cell_type": "code",
   "execution_count": 19,
   "metadata": {},
   "outputs": [],
   "source": [
    "\"\"\"\n",
    "# ipython_exit.py\n",
    "Allows exit() to work if script is invoked with IPython without\n",
    "raising NameError Exception. Keeps kernel alive.\n",
    "\n",
    "Use: import variable 'exit' in target script with\n",
    "     'from ipython_exit import exit'    \n",
    "\"\"\"\n",
    "\n",
    "import sys\n",
    "from io import StringIO\n",
    "from IPython import get_ipython\n",
    "\n",
    "\n",
    "class IpyExit(SystemExit):\n",
    "    \"\"\"Exit Exception for IPython.\n",
    "\n",
    "    Exception temporarily redirects stderr to buffer.\n",
    "    \"\"\"\n",
    "    def __init__(self):\n",
    "        # print(\"exiting\")  # optionally print some message to stdout, too\n",
    "        # ... or do other stuff before exit\n",
    "        sys.stderr = StringIO()\n",
    "\n",
    "    def __del__(self):\n",
    "        sys.stderr.close()\n",
    "        sys.stderr = sys.__stderr__  # restore from backup\n",
    "\n",
    "\n",
    "def ipy_exit():\n",
    "    raise IpyExit\n",
    "\n",
    "\n",
    "if get_ipython():    # ...run with IPython\n",
    "    exit = ipy_exit  # rebind to custom exit\n",
    "else:\n",
    "    exit = exit      # just make exit importable\n"
   ]
  },
  {
   "cell_type": "code",
   "execution_count": 20,
   "metadata": {},
   "outputs": [],
   "source": [
    "def subSolCorr(perm):\n",
    "    \"\"\"\n",
    "        The goals is to check if the current sub-solution to the\n",
    "        problem is correct.\n",
    "        Inputs:\n",
    "            permutation list\n",
    "        returns:\n",
    "            True/False\n",
    "    \"\"\"\n",
    "    lastInd = len(perm) - 1\n",
    "    for j in range(lastInd):\n",
    "        if lastInd - j == abs(perm[lastInd] - perm[j]):\n",
    "            return False\n",
    "    return True\n",
    "            "
   ]
  },
  {
   "cell_type": "code",
   "execution_count": 21,
   "metadata": {},
   "outputs": [],
   "source": [
    "def NQueenSol(perm, n):\n",
    "    \"\"\"\n",
    "        The sub-solution is true, add to it\n",
    "        Inputs:\n",
    "            perm -> list\n",
    "            n -> int => number of queens, or dimensions of board\n",
    "        returns:\n",
    "            void\n",
    "    \"\"\"\n",
    "    global res\n",
    "    if len(perm) == n:\n",
    "        #print(perm)\n",
    "        #exit()\n",
    "        res = res + 1      \n",
    "        \n",
    "    for k in range(n):\n",
    "        if k not in perm:\n",
    "            perm.append(k)\n",
    "            if subSolCorr(perm):\n",
    "                NQueenSol(perm,n)            \n",
    "            perm.pop()\n",
    "    \n",
    "    \n",
    "        "
   ]
  },
  {
   "cell_type": "code",
   "execution_count": 22,
   "metadata": {},
   "outputs": [
    {
     "name": "stdout",
     "output_type": "stream",
     "text": [
      "92\n"
     ]
    }
   ],
   "source": [
    "#Function Call\n",
    "NQueenSol(perm=[], n = 8 )\n",
    "print(res)"
   ]
  },
  {
   "cell_type": "code",
   "execution_count": null,
   "metadata": {},
   "outputs": [],
   "source": []
  },
  {
   "cell_type": "code",
   "execution_count": null,
   "metadata": {},
   "outputs": [],
   "source": []
  }
 ],
 "metadata": {
  "kernelspec": {
   "display_name": "Python 3 (ipykernel)",
   "language": "python",
   "name": "python3"
  },
  "language_info": {
   "codemirror_mode": {
    "name": "ipython",
    "version": 3
   },
   "file_extension": ".py",
   "mimetype": "text/x-python",
   "name": "python",
   "nbconvert_exporter": "python",
   "pygments_lexer": "ipython3",
   "version": "3.9.5"
  }
 },
 "nbformat": 4,
 "nbformat_minor": 4
}
