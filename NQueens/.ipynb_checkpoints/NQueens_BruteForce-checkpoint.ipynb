{
 "cells": [
  {
   "cell_type": "markdown",
   "metadata": {},
   "source": [
    "### N-Queens Brute Force solution ###"
   ]
  },
  {
   "cell_type": "markdown",
   "metadata": {},
   "source": [
    "Code to implement the N-Queens Brute force solution\n",
    "Queens attack all squares in a row and a column. Therefore there can only be one queen in a row and column at a time.\n",
    "\n",
    "This allows us to represent the position of a queen using an array of length n. Where n is the number of columns in the chessboard.\n",
    "Every index in this array represents a column and the value ofof that position in the array represents the row number from 0 to N - 1\n",
    "\n",
    "\n",
    "For the brute force approach we need two things:\n",
    "* A list of every possible perumation or value of 0 to N-1\n",
    "* A way to check if the permutation is a solution or not\n",
    "    * Remember that only one queen per row per column."
   ]
  },
  {
   "cell_type": "code",
   "execution_count": 1,
   "metadata": {},
   "outputs": [],
   "source": [
    "import itertools as it"
   ]
  },
  {
   "cell_type": "code",
   "execution_count": 2,
   "metadata": {},
   "outputs": [],
   "source": [
    "def sol_checker(perm):\n",
    "    for (i,j) in it.combinations(range(len(perm)), 2):\n",
    "        if abs(i - j) == abs( perm[i] - perm[j]):\n",
    "            \"\"\"\n",
    "                If these values are equal, then that means a queen exists in the same row and column.\n",
    "                We are checking the diagonals for the presence of a queen\n",
    "            \"\"\"\n",
    "            return False\n",
    "    return True"
   ]
  },
  {
   "cell_type": "code",
   "execution_count": 5,
   "metadata": {},
   "outputs": [
    {
     "name": "stdin",
     "output_type": "stream",
     "text": [
      "enter number of columns: 8\n"
     ]
    },
    {
     "name": "stdout",
     "output_type": "stream",
     "text": [
      "(0, 4, 7, 5, 2, 6, 1, 3)\n"
     ]
    }
   ],
   "source": [
    "for perm in it.permutations(range(int(input('enter number of columns:')))):\n",
    "    if sol_checker(perm):\n",
    "        print(perm)\n",
    "        break"
   ]
  },
  {
   "cell_type": "code",
   "execution_count": null,
   "metadata": {},
   "outputs": [],
   "source": []
  }
 ],
 "metadata": {
  "kernelspec": {
   "display_name": "Python 3 (ipykernel)",
   "language": "python",
   "name": "python3"
  },
  "language_info": {
   "codemirror_mode": {
    "name": "ipython",
    "version": 3
   },
   "file_extension": ".py",
   "mimetype": "text/x-python",
   "name": "python",
   "nbconvert_exporter": "python",
   "pygments_lexer": "ipython3",
   "version": "3.9.5"
  }
 },
 "nbformat": 4,
 "nbformat_minor": 4
}
